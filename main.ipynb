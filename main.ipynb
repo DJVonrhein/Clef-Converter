{
 "cells": [
  {
   "cell_type": "code",
   "execution_count": 1,
   "id": "221fc370",
   "metadata": {},
   "outputs": [],
   "source": [
    "import cv2 as cv\n",
    "import numpy as np\n",
    "# from IPython.display import Image\n",
    "img = cv.imread('img/takefive.png')\n",
    "assert img is not None, \"file could not be read, check with os.path.exists()\"\n",
    "# cv.imshow('img',img) \n",
    "# cv.waitKey(0)\n",
    "# cv.destroyWindow('img')\n",
    "\n"
   ]
  },
  {
   "cell_type": "code",
   "execution_count": null,
   "id": "b265a0d7",
   "metadata": {},
   "outputs": [],
   "source": []
  },
  {
   "cell_type": "code",
   "execution_count": null,
   "id": "cf5bd396",
   "metadata": {},
   "outputs": [],
   "source": []
  }
 ],
 "metadata": {
  "kernelspec": {
   "display_name": "sheet-transposer",
   "language": "python",
   "name": "sheet-transposer"
  },
  "language_info": {
   "codemirror_mode": {
    "name": "ipython",
    "version": 3
   },
   "file_extension": ".py",
   "mimetype": "text/x-python",
   "name": "python",
   "nbconvert_exporter": "python",
   "pygments_lexer": "ipython3",
   "version": "3.7.12"
  }
 },
 "nbformat": 4,
 "nbformat_minor": 5
}
